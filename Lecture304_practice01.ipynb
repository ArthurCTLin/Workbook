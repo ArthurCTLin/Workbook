{
  "nbformat": 4,
  "nbformat_minor": 0,
  "metadata": {
    "colab": {
      "name": "Lecture304_practice01.ipynb",
      "provenance": [],
      "collapsed_sections": [],
      "authorship_tag": "ABX9TyNh3FJzdGTHKoHzk8oEN1Pc",
      "include_colab_link": true
    },
    "kernelspec": {
      "name": "python3",
      "display_name": "Python 3"
    },
    "language_info": {
      "name": "python"
    },
    "accelerator": "TPU"
  },
  "cells": [
    {
      "cell_type": "markdown",
      "metadata": {
        "id": "view-in-github",
        "colab_type": "text"
      },
      "source": [
        "<a href=\"https://colab.research.google.com/github/ArthurCTLin/Workbook/blob/main/Lecture304_practice01.ipynb\" target=\"_parent\"><img src=\"https://colab.research.google.com/assets/colab-badge.svg\" alt=\"Open In Colab\"/></a>"
      ]
    },
    {
      "cell_type": "markdown",
      "metadata": {
        "id": "x24a765Fze3v"
      },
      "source": [
        "### Connect to TPU\n",
        "* Edit -> NoteBook settings\n",
        "* Select TPU from the Hardware Accelerator drop-down\n",
        "* Run the following script to check the connect situation"
      ]
    },
    {
      "cell_type": "code",
      "metadata": {
        "colab": {
          "base_uri": "https://localhost:8080/"
        },
        "id": "MLt_grkhzTX2",
        "outputId": "fbfa2702-6f3c-4879-c052-fb048809acb2"
      },
      "source": [
        "%tensorflow_version 2.x\n",
        "import tensorflow as tf\n",
        "print(\"Tensorflow version \" + tf.__version__)\n",
        "\n",
        "try:\n",
        "  tpu = tf.distribute.cluster_resolver.TPUClusterResolver()  # TPU detection\n",
        "  print('Running on TPU ', tpu.cluster_spec().as_dict()['worker'])\n",
        "except ValueError:\n",
        "  raise BaseException('ERROR: Not connected to a TPU runtime; please see the previous cell in this notebook for instructions!')\n",
        "\n",
        "tf.config.experimental_connect_to_cluster(tpu)\n",
        "tf.tpu.experimental.initialize_tpu_system(tpu)\n",
        "tpu_strategy = tf.distribute.experimental.TPUStrategy(tpu)"
      ],
      "execution_count": null,
      "outputs": [
        {
          "output_type": "stream",
          "text": [
            "Tensorflow version 2.4.1\n",
            "Running on TPU  ['10.36.133.26:8470']\n",
            "INFO:tensorflow:Initializing the TPU system: grpc://10.36.133.26:8470\n"
          ],
          "name": "stdout"
        },
        {
          "output_type": "stream",
          "text": [
            "INFO:tensorflow:Initializing the TPU system: grpc://10.36.133.26:8470\n"
          ],
          "name": "stderr"
        },
        {
          "output_type": "stream",
          "text": [
            "INFO:tensorflow:Clearing out eager caches\n"
          ],
          "name": "stdout"
        },
        {
          "output_type": "stream",
          "text": [
            "INFO:tensorflow:Clearing out eager caches\n"
          ],
          "name": "stderr"
        },
        {
          "output_type": "stream",
          "text": [
            "INFO:tensorflow:Finished initializing TPU system.\n"
          ],
          "name": "stdout"
        },
        {
          "output_type": "stream",
          "text": [
            "INFO:tensorflow:Finished initializing TPU system.\n",
            "WARNING:absl:`tf.distribute.experimental.TPUStrategy` is deprecated, please use  the non experimental symbol `tf.distribute.TPUStrategy` instead.\n"
          ],
          "name": "stderr"
        },
        {
          "output_type": "stream",
          "text": [
            "INFO:tensorflow:Found TPU system:\n"
          ],
          "name": "stdout"
        },
        {
          "output_type": "stream",
          "text": [
            "INFO:tensorflow:Found TPU system:\n"
          ],
          "name": "stderr"
        },
        {
          "output_type": "stream",
          "text": [
            "INFO:tensorflow:*** Num TPU Cores: 8\n"
          ],
          "name": "stdout"
        },
        {
          "output_type": "stream",
          "text": [
            "INFO:tensorflow:*** Num TPU Cores: 8\n"
          ],
          "name": "stderr"
        },
        {
          "output_type": "stream",
          "text": [
            "INFO:tensorflow:*** Num TPU Workers: 1\n"
          ],
          "name": "stdout"
        },
        {
          "output_type": "stream",
          "text": [
            "INFO:tensorflow:*** Num TPU Workers: 1\n"
          ],
          "name": "stderr"
        },
        {
          "output_type": "stream",
          "text": [
            "INFO:tensorflow:*** Num TPU Cores Per Worker: 8\n"
          ],
          "name": "stdout"
        },
        {
          "output_type": "stream",
          "text": [
            "INFO:tensorflow:*** Num TPU Cores Per Worker: 8\n"
          ],
          "name": "stderr"
        },
        {
          "output_type": "stream",
          "text": [
            "INFO:tensorflow:*** Available Device: _DeviceAttributes(/job:localhost/replica:0/task:0/device:CPU:0, CPU, 0, 0)\n"
          ],
          "name": "stdout"
        },
        {
          "output_type": "stream",
          "text": [
            "INFO:tensorflow:*** Available Device: _DeviceAttributes(/job:localhost/replica:0/task:0/device:CPU:0, CPU, 0, 0)\n"
          ],
          "name": "stderr"
        },
        {
          "output_type": "stream",
          "text": [
            "INFO:tensorflow:*** Available Device: _DeviceAttributes(/job:worker/replica:0/task:0/device:CPU:0, CPU, 0, 0)\n"
          ],
          "name": "stdout"
        },
        {
          "output_type": "stream",
          "text": [
            "INFO:tensorflow:*** Available Device: _DeviceAttributes(/job:worker/replica:0/task:0/device:CPU:0, CPU, 0, 0)\n"
          ],
          "name": "stderr"
        },
        {
          "output_type": "stream",
          "text": [
            "INFO:tensorflow:*** Available Device: _DeviceAttributes(/job:worker/replica:0/task:0/device:TPU:0, TPU, 0, 0)\n"
          ],
          "name": "stdout"
        },
        {
          "output_type": "stream",
          "text": [
            "INFO:tensorflow:*** Available Device: _DeviceAttributes(/job:worker/replica:0/task:0/device:TPU:0, TPU, 0, 0)\n"
          ],
          "name": "stderr"
        },
        {
          "output_type": "stream",
          "text": [
            "INFO:tensorflow:*** Available Device: _DeviceAttributes(/job:worker/replica:0/task:0/device:TPU:1, TPU, 0, 0)\n"
          ],
          "name": "stdout"
        },
        {
          "output_type": "stream",
          "text": [
            "INFO:tensorflow:*** Available Device: _DeviceAttributes(/job:worker/replica:0/task:0/device:TPU:1, TPU, 0, 0)\n"
          ],
          "name": "stderr"
        },
        {
          "output_type": "stream",
          "text": [
            "INFO:tensorflow:*** Available Device: _DeviceAttributes(/job:worker/replica:0/task:0/device:TPU:2, TPU, 0, 0)\n"
          ],
          "name": "stdout"
        },
        {
          "output_type": "stream",
          "text": [
            "INFO:tensorflow:*** Available Device: _DeviceAttributes(/job:worker/replica:0/task:0/device:TPU:2, TPU, 0, 0)\n"
          ],
          "name": "stderr"
        },
        {
          "output_type": "stream",
          "text": [
            "INFO:tensorflow:*** Available Device: _DeviceAttributes(/job:worker/replica:0/task:0/device:TPU:3, TPU, 0, 0)\n"
          ],
          "name": "stdout"
        },
        {
          "output_type": "stream",
          "text": [
            "INFO:tensorflow:*** Available Device: _DeviceAttributes(/job:worker/replica:0/task:0/device:TPU:3, TPU, 0, 0)\n"
          ],
          "name": "stderr"
        },
        {
          "output_type": "stream",
          "text": [
            "INFO:tensorflow:*** Available Device: _DeviceAttributes(/job:worker/replica:0/task:0/device:TPU:4, TPU, 0, 0)\n"
          ],
          "name": "stdout"
        },
        {
          "output_type": "stream",
          "text": [
            "INFO:tensorflow:*** Available Device: _DeviceAttributes(/job:worker/replica:0/task:0/device:TPU:4, TPU, 0, 0)\n"
          ],
          "name": "stderr"
        },
        {
          "output_type": "stream",
          "text": [
            "INFO:tensorflow:*** Available Device: _DeviceAttributes(/job:worker/replica:0/task:0/device:TPU:5, TPU, 0, 0)\n"
          ],
          "name": "stdout"
        },
        {
          "output_type": "stream",
          "text": [
            "INFO:tensorflow:*** Available Device: _DeviceAttributes(/job:worker/replica:0/task:0/device:TPU:5, TPU, 0, 0)\n"
          ],
          "name": "stderr"
        },
        {
          "output_type": "stream",
          "text": [
            "INFO:tensorflow:*** Available Device: _DeviceAttributes(/job:worker/replica:0/task:0/device:TPU:6, TPU, 0, 0)\n"
          ],
          "name": "stdout"
        },
        {
          "output_type": "stream",
          "text": [
            "INFO:tensorflow:*** Available Device: _DeviceAttributes(/job:worker/replica:0/task:0/device:TPU:6, TPU, 0, 0)\n"
          ],
          "name": "stderr"
        },
        {
          "output_type": "stream",
          "text": [
            "INFO:tensorflow:*** Available Device: _DeviceAttributes(/job:worker/replica:0/task:0/device:TPU:7, TPU, 0, 0)\n"
          ],
          "name": "stdout"
        },
        {
          "output_type": "stream",
          "text": [
            "INFO:tensorflow:*** Available Device: _DeviceAttributes(/job:worker/replica:0/task:0/device:TPU:7, TPU, 0, 0)\n"
          ],
          "name": "stderr"
        },
        {
          "output_type": "stream",
          "text": [
            "INFO:tensorflow:*** Available Device: _DeviceAttributes(/job:worker/replica:0/task:0/device:TPU_SYSTEM:0, TPU_SYSTEM, 0, 0)\n"
          ],
          "name": "stdout"
        },
        {
          "output_type": "stream",
          "text": [
            "INFO:tensorflow:*** Available Device: _DeviceAttributes(/job:worker/replica:0/task:0/device:TPU_SYSTEM:0, TPU_SYSTEM, 0, 0)\n"
          ],
          "name": "stderr"
        },
        {
          "output_type": "stream",
          "text": [
            "INFO:tensorflow:*** Available Device: _DeviceAttributes(/job:worker/replica:0/task:0/device:XLA_CPU:0, XLA_CPU, 0, 0)\n"
          ],
          "name": "stdout"
        },
        {
          "output_type": "stream",
          "text": [
            "INFO:tensorflow:*** Available Device: _DeviceAttributes(/job:worker/replica:0/task:0/device:XLA_CPU:0, XLA_CPU, 0, 0)\n"
          ],
          "name": "stderr"
        }
      ]
    },
    {
      "cell_type": "markdown",
      "metadata": {
        "id": "cwobkk5i0YWe"
      },
      "source": [
        "### Connect to google drive for loading data"
      ]
    },
    {
      "cell_type": "code",
      "metadata": {
        "colab": {
          "base_uri": "https://localhost:8080/"
        },
        "id": "w0O_yfA58i0H",
        "outputId": "c6ed41cf-7cc2-4071-82a6-155e7c935923"
      },
      "source": [
        "from google.colab import drive\n",
        "drive.mount('/content/drive')\n"
      ],
      "execution_count": 22,
      "outputs": [
        {
          "output_type": "stream",
          "text": [
            "Drive already mounted at /content/drive; to attempt to forcibly remount, call drive.mount(\"/content/drive\", force_remount=True).\n"
          ],
          "name": "stdout"
        }
      ]
    },
    {
      "cell_type": "code",
      "metadata": {
        "colab": {
          "base_uri": "https://localhost:8080/"
        },
        "id": "s1Yzn7PIMWp7",
        "outputId": "9e345068-6a4f-4319-a631-0ce5ab073e71"
      },
      "source": [
        "!ls \"/content/drive/MyDrive/ColabNotebooks/\""
      ],
      "execution_count": 26,
      "outputs": [
        {
          "output_type": "stream",
          "text": [
            "font_data.npy  l304practice.npz  Lecture304_practice01.ipynb\n"
          ],
          "name": "stdout"
        }
      ]
    },
    {
      "cell_type": "code",
      "metadata": {
        "id": "O5w626mE00V8",
        "colab": {
          "base_uri": "https://localhost:8080/"
        },
        "outputId": "72ae226b-3cdc-432c-dc75-9cf09c989c57"
      },
      "source": [
        "import numpy as np\n",
        "import matplotlib.pyplot as plt\n",
        "import pandas as pd\n",
        "import tensorflow_datasets as tfds\n",
        "\n",
        "data = np.load('/content/drive/MyDrive/ColabNotebooks/l304practice.npz')\n",
        "x_train = data['x_train']\n",
        "y_train = data['y_train']\n",
        "#y_train = np.array([np.eye(2)[n-1] for n in data['y_train']])\n",
        "x_test = data['x_test']\n",
        "y_test = data['y_test']\n",
        "#y_test = np.array([np.eye(2)[n-1] for n in data['y_test']])\n",
        "\n",
        "y_train = np.array([n-1 for n in y_train])\n",
        "y_test = np.array([n-1 for n in y_test])\n",
        "\n",
        "y_train = np.array([[[1,0],[0,1]][n] for n in y_train])\n",
        "y_test = np.array([[[1,0],[0,1]][n] for n in y_test])\n",
        "\n",
        "print('x shape:', x_train.shape)\n",
        "print('y shape:', y_train.shape)\n",
        "\n",
        "print('1st sample in x:', x_train[0])\n",
        "print('1st sample in y:', y_train[0])\n",
        "\n",
        "from keras.models import Sequential\n",
        "from keras.layers import *\n",
        "from keras.optimizers import Adadelta\n",
        "\n",
        "#img_shape = (48,48)\n",
        "\n",
        "model = Sequential()\n",
        "model.add(Reshape((48,48,1), input_shape=(48,48)))\n",
        "model.add(Conv2D(16, kernel_size=(5,5), activation='relu'))\n",
        "model.add(MaxPooling2D(pool_size=(2,2)))\n",
        "model.add(Flatten())\n",
        "model.add(Dropout(0.2))\n",
        "model.add(Dense(2, activation='softmax'))\n",
        "\n",
        "model.compile(loss='categorical_crossentropy',\n",
        "              optimizer=Adadelta(),\n",
        "              metrics=['accuracy'])\n",
        "\n",
        "model.fit(x_train, y_train, epochs=20, batch_size=1,\n",
        "          validation_data=(x_test, y_test))\n",
        "\n",
        "print('Performance (training)')\n",
        "print('Loss: %.5f, Acc: %.5f' % tuple(model.evaluate(x_train, y_train)))\n",
        "print('Performance (testing)')\n",
        "print('Loss: %.5f, Acc: %.5f' % tuple(model.evaluate(x_test, y_test)))\n",
        "\n",
        "p_test = model.predict(x_test)\n",
        "failedsample = [[img,y,p] for img,y,p in zip(data['x_test'],y_test,p_test) if y.argmax()!=p.argmax()]\n",
        "print('# of failed test samples:',len(failedsample))\n",
        "\n",
        "fig = plt.figure(figsize=(10,10), dpi=80)\n",
        "for i in range(len(failedsample[:100])):\n",
        "    plt.subplot(10,10,i+1)\n",
        "    plt.axis('off')\n",
        "    plt.imshow(failedsample[i][0], cmap='Greys')\n",
        "    plt.text(0.,0.,'$%d\\\\to%d$' % (failedsample[i][1].argmax(),failedsample[i][2].argmax()),color='Red',fontsize=15)\n",
        "plt.show()\n"
      ],
      "execution_count": null,
      "outputs": [
        {
          "output_type": "stream",
          "text": [
            "x shape: (6400, 48, 48)\n",
            "y shape: (6400, 2)\n",
            "1st sample in x: [[0 0 0 ... 0 0 0]\n",
            " [0 0 0 ... 0 0 0]\n",
            " [0 0 0 ... 0 0 0]\n",
            " ...\n",
            " [0 0 0 ... 0 0 0]\n",
            " [0 0 0 ... 0 0 0]\n",
            " [0 0 0 ... 0 0 0]]\n",
            "1st sample in y: [1 0]\n",
            "Epoch 1/20\n",
            "6400/6400 [==============================] - 85s 13ms/step - loss: 21.2192 - accuracy: 0.5703 - val_loss: 9.3221 - val_accuracy: 0.6465\n",
            "Epoch 2/20\n",
            "6400/6400 [==============================] - 86s 13ms/step - loss: 12.0207 - accuracy: 0.6331 - val_loss: 6.9748 - val_accuracy: 0.7155\n",
            "Epoch 3/20\n",
            "6400/6400 [==============================] - 85s 13ms/step - loss: 9.6438 - accuracy: 0.6883 - val_loss: 5.4990 - val_accuracy: 0.7615\n",
            "Epoch 4/20\n",
            "6400/6400 [==============================] - 86s 13ms/step - loss: 7.9070 - accuracy: 0.7283 - val_loss: 4.4655 - val_accuracy: 0.7963\n",
            "Epoch 5/20\n",
            "6400/6400 [==============================] - 85s 13ms/step - loss: 6.9019 - accuracy: 0.7544 - val_loss: 3.7378 - val_accuracy: 0.8262\n",
            "Epoch 6/20\n",
            "6400/6400 [==============================] - 86s 13ms/step - loss: 6.0718 - accuracy: 0.7785 - val_loss: 3.2322 - val_accuracy: 0.8473\n",
            "Epoch 7/20\n",
            "6400/6400 [==============================] - 85s 13ms/step - loss: 5.3758 - accuracy: 0.7953 - val_loss: 2.7974 - val_accuracy: 0.8604\n",
            "Epoch 8/20\n",
            "6400/6400 [==============================] - 85s 13ms/step - loss: 4.6753 - accuracy: 0.8116 - val_loss: 2.5084 - val_accuracy: 0.8722\n",
            "Epoch 9/20\n",
            "6400/6400 [==============================] - 85s 13ms/step - loss: 4.3550 - accuracy: 0.8357 - val_loss: 2.2196 - val_accuracy: 0.8822\n",
            "Epoch 10/20\n",
            "6399/6400 [============================>.] - ETA: 0s - loss: 3.9406 - accuracy: 0.8395"
          ],
          "name": "stdout"
        }
      ]
    }
  ]
}