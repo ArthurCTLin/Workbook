{
  "nbformat": 4,
  "nbformat_minor": 0,
  "metadata": {
    "colab": {
      "name": "Phoneme Classification.ipynb",
      "provenance": [],
      "authorship_tag": "ABX9TyOU12DUzx6EKe86b96zIEzo",
      "include_colab_link": true
    },
    "kernelspec": {
      "display_name": "Python 3",
      "name": "python3"
    },
    "language_info": {
      "name": "python"
    }
  },
  "cells": [
    {
      "cell_type": "markdown",
      "metadata": {
        "id": "view-in-github",
        "colab_type": "text"
      },
      "source": [
        "<a href=\"https://colab.research.google.com/github/ArthurCTLin/Workbook/blob/main/ML_Course/HW2/Phoneme_Classification.ipynb\" target=\"_parent\"><img src=\"https://colab.research.google.com/assets/colab-badge.svg\" alt=\"Open In Colab\"/></a>"
      ]
    },
    {
      "cell_type": "markdown",
      "metadata": {
        "id": "Cp-wY_497_QL"
      },
      "source": [
        "## Homework 2 from [***Machine Learning***](https://speech.ee.ntu.edu.tw/~hylee/ml/2021-spring.html)\n",
        "* **Professor :** Hung-Yi, Lee\n",
        "* **Objectives :**\n",
        "  * Basic understanding of Speech recognition\n",
        "  * Solve a classification task with DNN\n",
        "  * Get familiar with PyTorch.\n",
        "* **Description of HW :** https://speech.ee.ntu.edu.tw/~hylee/ml/ml2021-course-data/hw/HW02/HW02.pdf\n",
        "* **Kaggle Link :** https://www.kaggle.com/c/ml2021spring-hw2/"
      ]
    },
    {
      "cell_type": "markdown",
      "metadata": {
        "id": "7sDlmVNQElZ-"
      },
      "source": [
        "### **Download Data**\n",
        "Download data from google drive, then unzip it.\n",
        "\n",
        "* `train_11.npy`: training data\n",
        "* `train_label_11.npy`: training label\n",
        "* `test_11.npy`:  testing data\n",
        "\n",
        "**Notes: if the google drive link is dead, you can download the data directly from Kaggle and upload it to the workspace**"
      ]
    },
    {
      "cell_type": "code",
      "metadata": {
        "colab": {
          "base_uri": "https://localhost:8080/"
        },
        "id": "-jFE_54A7-RJ",
        "outputId": "12b0dcae-5ba2-499a-dc9f-e35fe35c2f20"
      },
      "source": [
        "!gdown --id '1HPkcmQmFGu-3OknddKIa5dNDsR05lIQR' --output data.zip\n",
        "!unzip data.zip\n",
        "!ls "
      ],
      "execution_count": null,
      "outputs": [
        {
          "name": "stdout",
          "output_type": "stream",
          "text": [
            "Downloading...\n",
            "From: https://drive.google.com/uc?id=1HPkcmQmFGu-3OknddKIa5dNDsR05lIQR\n",
            "To: /content/data.zip\n",
            "100% 372M/372M [00:07<00:00, 46.6MB/s]\n",
            "Archive:  data.zip\n",
            "   creating: timit_11/\n",
            "  inflating: timit_11/train_11.npy   \n",
            "  inflating: timit_11/test_11.npy    \n",
            "  inflating: timit_11/train_label_11.npy  \n",
            "data.zip  sample_data  timit_11\n"
          ]
        }
      ]
    },
    {
      "cell_type": "markdown",
      "metadata": {
        "id": "fQ-X9KZEGDvJ"
      },
      "source": [
        "### **Import Package**\n"
      ]
    },
    {
      "cell_type": "code",
      "metadata": {
        "id": "Wrk4fhjlGXfo"
      },
      "source": [
        "# PyTorch\n",
        "import torch\n",
        "import torch.nn as nn\n",
        "from torch.utils.data import Dataset, DataLoader\n",
        "\n",
        "# For data preprocess\n",
        "import numpy as np\n",
        "import pandas as pd\n",
        "import csv\n",
        "import os\n",
        "\n",
        "# For plotting\n",
        "import matplotlib.pyplot as plt\n",
        "from matplotlib.pyplot import figure\n",
        "\n",
        "#check device\n",
        "def get_device():\n",
        "  return 'cuda' if torch.cuda.is_available() else 'cpu'\n",
        "\n",
        "# Make the results of every experiments are reproducible : https://www.itread01.com/content/1550034200.html\n",
        "myseed = 0  # set a random seed for reproducibility\n",
        "torch.backends.cudnn.deterministic = True \n",
        "torch.backends.cudnn.benchmark = False # https://stackoverflow.com/questions/58961768/set-torch-backends-cudnn-benchmark-true-or-not\n",
        "np.random.seed(myseed)\n",
        "torch.manual_seed(myseed)\n",
        "if torch.cuda.is_available():\n",
        "    torch.cuda.manual_seed_all(myseed)"
      ],
      "execution_count": null,
      "outputs": []
    },
    {
      "cell_type": "markdown",
      "metadata": {
        "id": "vxAWtUyaGnaP"
      },
      "source": [
        "## **Preparing Data**\n",
        "* Load Data\n",
        "* Construct Dataset\n",
        "* Split Dataset\n",
        "* DataLoader\n",
        "* Clean up unnecessary variables\n"
      ]
    },
    {
      "cell_type": "markdown",
      "metadata": {
        "id": "SqcTRbiWJ_Xp"
      },
      "source": [
        "### **Load Data**\n",
        "Load the training and testing data from the `.npy` file (NumPy array)."
      ]
    },
    {
      "cell_type": "code",
      "metadata": {
        "colab": {
          "base_uri": "https://localhost:8080/"
        },
        "id": "fVwyV_qZG0xk",
        "outputId": "d32f8ff0-261e-4cad-e5e2-740f21e7c64f"
      },
      "source": [
        "print('Loading data ...')\n",
        "\n",
        "data_root='./timit_11/'\n",
        "train = np.load(data_root + 'train_11.npy')\n",
        "train_label = np.load(data_root + 'train_label_11.npy')\n",
        "test = np.load(data_root + 'test_11.npy')\n",
        "\n",
        "print('Size of training data: {}'.format(train.shape))\n",
        "print('Size of testing data: {}'.format(test.shape))"
      ],
      "execution_count": null,
      "outputs": [
        {
          "name": "stdout",
          "output_type": "stream",
          "text": [
            "Loading data ...\n",
            "Size of training data: (1229932, 429)\n",
            "Size of testing data: (451552, 429)\n"
          ]
        }
      ]
    },
    {
      "cell_type": "markdown",
      "metadata": {
        "id": "bjvPQLV5HQZl"
      },
      "source": [
        "### **Construct Dataset**\n",
        "\n",
        "\n"
      ]
    },
    {
      "cell_type": "code",
      "metadata": {
        "id": "w1vzeX2FHpJ2"
      },
      "source": [
        "class TIMITDataset(Dataset):\n",
        "    def __init__(self, X, y=None):\n",
        "        self.data = torch.from_numpy(X).float()\n",
        "        if y is not None:\n",
        "            y = y.astype(np.int)\n",
        "            self.label = torch.LongTensor(y)\n",
        "        else:\n",
        "            self.label = None\n",
        "        self.dim = self.data.shape[1]\n",
        "\n",
        "    def __getitem__(self, idx):\n",
        "        if self.label is not None:\n",
        "            return self.data[idx], self.label[idx]\n",
        "        else:\n",
        "            return self.data[idx]\n",
        "\n",
        "    def __len__(self):\n",
        "        return len(self.data)"
      ],
      "execution_count": null,
      "outputs": []
    },
    {
      "cell_type": "markdown",
      "metadata": {
        "id": "R05cu6JmKO7T"
      },
      "source": [
        "### **Split Dataset**\n",
        "Split the labeled data into a training set and a validation set, you can modify the variable `VAL_RATIO` to change the ratio of validation data."
      ]
    },
    {
      "cell_type": "code",
      "metadata": {
        "colab": {
          "base_uri": "https://localhost:8080/"
        },
        "id": "6UKTwXUTKR9X",
        "outputId": "ee73f3a2-9835-4099-a44f-145d7c7dea58"
      },
      "source": [
        "VAL_RATIO = 0.2\n",
        "\n",
        "percent = int(train.shape[0] * (1 - VAL_RATIO))\n",
        "train_x, train_y, val_x, val_y = train[:percent], train_label[:percent], train[percent:], train_label[percent:]\n",
        "print('Size of training set: {}'.format(train_x.shape))\n",
        "print('Size of validation set: {}'.format(val_x.shape))"
      ],
      "execution_count": null,
      "outputs": [
        {
          "name": "stdout",
          "output_type": "stream",
          "text": [
            "Size of training set: (983945, 429)\n",
            "Size of validation set: (245987, 429)\n"
          ]
        }
      ]
    },
    {
      "cell_type": "markdown",
      "metadata": {
        "id": "ZO1igN14KW3X"
      },
      "source": [
        "### **DataLoader**\n",
        "Create a data loader from a given `Dataset` into batches."
      ]
    },
    {
      "cell_type": "code",
      "metadata": {
        "id": "LIPzufheKmNe"
      },
      "source": [
        "BATCH_SIZE = 64\n",
        "\n",
        "from torch.utils.data import DataLoader\n",
        "\n",
        "train_set = TIMITDataset(train_x, train_y)\n",
        "val_set = TIMITDataset(val_x, val_y)\n",
        "train_loader = DataLoader(train_set, batch_size=BATCH_SIZE, shuffle=True) #only shuffle the training data\n",
        "val_loader = DataLoader(val_set, batch_size=BATCH_SIZE, shuffle=False)"
      ],
      "execution_count": null,
      "outputs": []
    },
    {
      "cell_type": "markdown",
      "metadata": {
        "id": "RHdh6RK7K2vs"
      },
      "source": [
        "### **Clean Up Unnecessary Variables**\n",
        "Cleanup the unneeded variables to save memory.\n",
        "\n",
        "***Notes :*** if you need to use these variables later, then you may remove this block or clean up unneeded variables later<br>the data size is quite huge, so be aware of memory usage in colab"
      ]
    },
    {
      "cell_type": "code",
      "metadata": {
        "colab": {
          "base_uri": "https://localhost:8080/"
        },
        "id": "v-_H4anXLpi6",
        "outputId": "3922db60-fb44-4784-c101-4afd502b005e"
      },
      "source": [
        "import gc #Garbage Collection\n",
        "\n",
        "del train, train_label, train_x, train_y, val_x, val_y\n",
        "gc.collect()"
      ],
      "execution_count": null,
      "outputs": [
        {
          "data": {
            "text/plain": [
              "100"
            ]
          },
          "execution_count": 7,
          "metadata": {},
          "output_type": "execute_result"
        }
      ]
    },
    {
      "cell_type": "markdown",
      "metadata": {
        "id": "CD8bYunUM99L"
      },
      "source": [
        "## **Create Model**\n",
        "* Define Model\n",
        "* Hyperparameters"
      ]
    },
    {
      "cell_type": "markdown",
      "metadata": {
        "id": "msD6ImTeSBP9"
      },
      "source": [
        "### **Define Model**\n",
        "Define architecture of DNN model"
      ]
    },
    {
      "cell_type": "code",
      "metadata": {
        "id": "jD8t4Bi1OPZn"
      },
      "source": [
        "class Classifier(nn.Module):\n",
        "    def __init__(self, input_dim):\n",
        "        super(Classifier, self).__init__()\n",
        "        self.layer1 = nn.Linear(input_dim, 1024)\n",
        "        self.layer2 = nn.Linear(1024, 512)\n",
        "        self.layer3 = nn.Linear(512, 512)\n",
        "        self.layer4 = nn.Linear(512, 256)\n",
        "        self.layer5 = nn.Linear(256, 128)\n",
        "        self.layer6 = nn.Linear(256, 128)\n",
        "        self.layer7 = nn.Linear(128, 128)\n",
        "        self.layer8 = nn.Linear(128, 64)\n",
        "        self.out = nn.Linear(128, 39) \n",
        "\n",
        "        self.bn_1 = nn.BatchNorm1d(1024)\n",
        "        self.bn_2 = nn.BatchNorm1d(512)\n",
        "        self.bn_3 = nn.BatchNorm1d(512)\n",
        "        self.bn_4 = nn.BatchNorm1d(256)\n",
        "        self.bn_5 = nn.BatchNorm1d(128)\n",
        "        self.bn_7 = nn.BatchNorm1d(128)\n",
        "        self.act_fn = nn.ReLU()\n",
        "        self.act_LeakyReLU = nn.LeakyReLU(0.1)\n",
        "        self.act_ELU = nn.ELU()\n",
        "        self.dropout = nn.Dropout(0.3)\n",
        "    \n",
        "\n",
        "    def forward(self, x):\n",
        "        x = self.layer1(x)\n",
        "        x = self.bn_1(x)\n",
        "        x = self.dropout(x)\n",
        "        #x = self.act_ELU(x)\n",
        "        x = self.act_LeakyReLU(x)\n",
        "        #x = self.act_fn(x)\n",
        "     \n",
        "        x = self.layer2(x)\n",
        "        #x = self.bn_2(x)\n",
        "        x = self.dropout(x)\n",
        "        #x = self.act_ELU(x)\n",
        "        x = self.act_LeakyReLU(x)\n",
        "        #x = self.act_fn(x)\n",
        "\n",
        "        x = self.layer3(x)\n",
        "        #x = self.bn_3(x)\n",
        "        x = self.dropout(x)\n",
        "        #x = self.act_ELU(x)\n",
        "        x = self.act_LeakyReLU(x)\n",
        "        #x = self.act_fn(x)\n",
        "\n",
        "        x = self.layer4(x)\n",
        "        x = self.dropout(x)\n",
        "        #x = self.act_ELU(x)\n",
        "        x = self.act_LeakyReLU(x)\n",
        "        #x = self.act_fn(x)\n",
        "\n",
        "        x = self.layer5(x)\n",
        "        #x = self.bn_5(x)\n",
        "        x = self.dropout(x)\n",
        "        #x = self.act_ELU(x)\n",
        "        x = self.act_LeakyReLU(x)\n",
        "        #x = self.act_fn(x)\n",
        "        \n",
        "        #x = self.layer7(x)\n",
        "        #x = self.bn_7(x)\n",
        "        #x = self.dropout(x)\n",
        "        #x = self.act_ELU(x)\n",
        "        #x = self.act_LeakyReLU(x)\n",
        "        #x = self.act_fn(x)\n",
        "        \n",
        "        x = self.out(x)\n",
        "        \n",
        "        return x"
      ],
      "execution_count": null,
      "outputs": []
    },
    {
      "cell_type": "markdown",
      "metadata": {
        "id": "IRLotCj1SKyt"
      },
      "source": [
        "### **Set Hyper-parameters**"
      ]
    },
    {
      "cell_type": "code",
      "metadata": {
        "colab": {
          "base_uri": "https://localhost:8080/"
        },
        "id": "yDVWYEclSSIP",
        "outputId": "2ea813c2-5315-4104-bd52-f8aa5db0ba9a"
      },
      "source": [
        "# get device \n",
        "device = get_device()\n",
        "print(f'DEVICE: {device}')\n",
        "\n",
        "# training hyper-parameters\n",
        "num_epoch = 200           # number of training epoch\n",
        "learning_rate = 0.0001       # learning rate\n",
        "\n",
        "# the path where checkpoint saved\n",
        "model_path = './model.ckpt'\n",
        "\n",
        "# create model, define a loss function, and optimizer\n",
        "model = Classifier(train_loader.dataset.dim).to(device)\n",
        "model.load_state_dict(torch.load(\"./HW2_28_model.ckpt\"))\n",
        "criterion = nn.CrossEntropyLoss() \n",
        "optimizer = torch.optim.Adam(model.parameters(), lr=learning_rate)"
      ],
      "execution_count": null,
      "outputs": [
        {
          "name": "stdout",
          "output_type": "stream",
          "text": [
            "DEVICE: cpu\n"
          ]
        }
      ]
    },
    {
      "cell_type": "markdown",
      "metadata": {
        "id": "d6NLbGwGS1P4"
      },
      "source": [
        "## **Training & Testing**\n"
      ]
    },
    {
      "cell_type": "markdown",
      "metadata": {
        "id": "Ul2SpF6ATE_K"
      },
      "source": [
        "### **Start Training**"
      ]
    },
    {
      "cell_type": "code",
      "metadata": {
        "colab": {
          "background_save": true
        },
        "id": "01jPnNKWS_Jr"
      },
      "source": [
        "best_acc = 0.0\n",
        "for epoch in range(num_epoch):\n",
        "    train_acc = 0.0\n",
        "    train_loss = 0.0\n",
        "    val_acc = 0.0\n",
        "    val_loss = 0.0\n",
        "\n",
        "    # training\n",
        "    model.train() # set the model to training mode\n",
        "    for i, data in enumerate(train_loader):\n",
        "        inputs, labels = data\n",
        "        inputs, labels = inputs.to(device), labels.to(device)\n",
        "        optimizer.zero_grad() \n",
        "        outputs = model(inputs) \n",
        "        batch_loss = criterion(outputs, labels)\n",
        "        _, train_pred = torch.max(outputs, 1) # get the index of the class with the highest probability\n",
        "        batch_loss.backward() \n",
        "        optimizer.step() \n",
        "\n",
        "        train_acc += (train_pred.cpu() == labels.cpu()).sum().item()\n",
        "        train_loss += batch_loss.item()\n",
        "\n",
        "    # validation\n",
        "    if len(val_set) > 0:\n",
        "        model.eval() # set the model to evaluation mode\n",
        "        with torch.no_grad():\n",
        "            for i, data in enumerate(val_loader):\n",
        "                inputs, labels = data\n",
        "                inputs, labels = inputs.to(device), labels.to(device)\n",
        "                outputs = model(inputs)\n",
        "                batch_loss = criterion(outputs, labels) \n",
        "                _, val_pred = torch.max(outputs, 1) \n",
        "            \n",
        "                val_acc += (val_pred.cpu() == labels.cpu()).sum().item() # get the index of the class with the highest probability\n",
        "                val_loss += batch_loss.item()\n",
        "\n",
        "            print('[{:03d}/{:03d}] Train Acc: {:3.6f} Loss: {:3.6f} | Val Acc: {:3.6f} loss: {:3.6f}'.format(\n",
        "                epoch + 1, num_epoch, train_acc/len(train_set), train_loss/len(train_loader), val_acc/len(val_set), val_loss/len(val_loader)\n",
        "            ))\n",
        "\n",
        "            # if the model improves, save a checkpoint at this epoch\n",
        "            if val_acc > best_acc:\n",
        "                best_acc = val_acc\n",
        "                torch.save(model.state_dict(), model_path)\n",
        "                print('saving model with acc {:.3f}'.format(best_acc/len(val_set)))\n",
        "    else:\n",
        "        print('[{:03d}/{:03d}] Train Acc: {:3.6f} Loss: {:3.6f}'.format(\n",
        "            epoch + 1, num_epoch, train_acc/len(train_set), train_loss/len(train_loader)\n",
        "        ))\n",
        "\n",
        "# if not validating, save the last epoch\n",
        "if len(val_set) == 0:\n",
        "    torch.save(model.state_dict(), model_path)\n",
        "    print('saving model at last epoch')\n"
      ],
      "execution_count": null,
      "outputs": []
    },
    {
      "cell_type": "markdown",
      "metadata": {
        "id": "Cij76sgRUyM0"
      },
      "source": [
        "### **Testing**\n",
        "Create a testing dataset, and load model from the saved checkpoint."
      ]
    },
    {
      "cell_type": "code",
      "metadata": {
        "id": "Ch5l16jVU7iB"
      },
      "source": [
        "# create testing dataset\n",
        "test_set = TIMITDataset(test, None)\n",
        "test_loader = DataLoader(test_set, batch_size=BATCH_SIZE, shuffle=False)\n",
        "\n",
        "# create model and load weights from checkpoint\n",
        "model = Classifier(train_loader.dataset.dim).to(device)\n",
        "model.load_state_dict(torch.load(model_path))"
      ],
      "execution_count": null,
      "outputs": []
    },
    {
      "cell_type": "markdown",
      "metadata": {
        "id": "O_vPqKLnVYyv"
      },
      "source": [
        "#### **Make prediction**"
      ]
    },
    {
      "cell_type": "code",
      "metadata": {
        "id": "p4xoFNbCV5ny"
      },
      "source": [
        "predict = []\n",
        "model.eval() # set the model to evaluation mode\n",
        "with torch.no_grad():\n",
        "    for i, data in enumerate(test_loader):\n",
        "        inputs = data\n",
        "        inputs = inputs.to(device)\n",
        "        outputs = model(inputs)\n",
        "        _, test_pred = torch.max(outputs, 1) # get the index of the class with the highest probability\n",
        "\n",
        "        for y in test_pred.cpu().numpy():\n",
        "            predict.append(y)"
      ],
      "execution_count": null,
      "outputs": []
    },
    {
      "cell_type": "markdown",
      "metadata": {
        "id": "rcVgMKjkVnMr"
      },
      "source": [
        "#### **Write prediction to a CSV file**\n",
        "\n",
        "After finish running this block, download the file `prediction.csv` from the files section on the left-hand side and submit it to Kaggle."
      ]
    },
    {
      "cell_type": "code",
      "metadata": {
        "id": "J7ORIac5VwXd"
      },
      "source": [
        "with open('prediction.csv', 'w') as f:\n",
        "    f.write('Id,Class\\n')\n",
        "    for i, y in enumerate(predict):\n",
        "        f.write('{},{}\\n'.format(i, y))"
      ],
      "execution_count": null,
      "outputs": []
    },
    {
      "cell_type": "markdown",
      "metadata": {
        "id": "zA2EYKJQZd4N"
      },
      "source": [
        "## **Reference**\n",
        "* Source code provided by Course TA : https://colab.research.google.com/github/ga642381/ML2021-Spring/blob/main/HW02/HW02-2.ipynb\n",
        "* Speech Recognition : https://speech.ee.ntu.edu.tw/~tlkagk/courses/DLHLP20/ASR%20(v12).pdf\n",
        "* Automatic Speech Recognition : https://ithelp.ithome.com.tw/articles/10195763"
      ]
    }
  ]
}